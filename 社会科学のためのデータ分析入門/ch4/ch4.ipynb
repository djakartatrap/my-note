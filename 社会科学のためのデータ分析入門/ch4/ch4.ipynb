{
 "cells": [
  {
   "cell_type": "code",
   "execution_count": null,
   "metadata": {
    "collapsed": true
   },
   "outputs": [],
   "source": [
    "import pandas as pd\n",
    "import numpy as np\n",
    "import seaborn as sns\n",
    "sns.set(style=\"white\", color_codes=True)\n",
    "import matplotlib.pyplot as plt\n",
    "import matplotlib as mpl\n",
    "font = {\"family\":\"Ricty\"}\n",
    "mpl.rc('font', **font)"
   ]
  },
  {
   "cell_type": "code",
   "execution_count": null,
   "metadata": {},
   "outputs": [],
   "source": [
    "# とりあえずデータ読み込め！\n",
    "# 選挙結果のデータ\n",
    "pres08 = pd.read_csv('officialSource/qss-inst-master/PREDICTION/betting-markets/data/pres08.csv')\n",
    "# 世論調査のデータ\n",
    "polls08 = pd.read_csv('officialSource/qss-inst-master/PREDICTION/betting-markets/data/polls08.csv')\n",
    "# それぞれのデータ内に、オバマとマケインの得票率(もしくは支持率)の差を「margin」カラムとして保存\n",
    "pres08['margin'] = pres08['Obama'] - pres08['McCain']\n",
    "polls08['margin'] = polls08['Obama'] - polls08['McCain']\n",
    "\n",
    "# 同じ州の同じ中間日に世論調査が行われているのか？を確認\n",
    "polls08.groupby(['state','middate']).count()\n",
    "# 行われてるので、平均をとる必要がある\n",
    "\n",
    "# pythonでのDate型ってこうやるらしい\n",
    "polls08['middate'] = pd.to_datetime(polls08['middate'])\n",
    "# middate は最大でも20081101\n",
    "polls08['middate'].max()\n",
    "\n",
    "# 試しに色々計算させてみる\n",
    "pd.to_datetime('2019-01-12') - pd.to_datetime('2019-01-11')\n",
    "pd.to_datetime('2019-01-12') - pd.to_datetime('2019-01-16')\n",
    "import math\n",
    "abs(pd.to_datetime('2019-01-12') - pd.to_datetime('2019-01-16'))\n",
    "type(pd.to_datetime('2019-01-12') - pd.to_datetime('2019-01-11'))\n",
    "\n",
    "# 選挙日までの日数をカラムとして保存\n",
    "polls08['DaysToElection'] = pd.to_datetime('2008-11-04') - polls08['middate']\n",
    "\n",
    "# DaysToElectionを小さい方から並べたランクナンバーを振る\n",
    "polls08 = polls08.assign(\n",
    "    rankMin=polls08.groupby(by='state')['DaysToElection'].rank(method='min')\n",
    ")\n",
    "# 最も選挙日に近い世論調査に限定して、オバマとマケインの差の平均をとり、それを予測値カラム(カラム名：pred)として保存\n",
    "poll = polls08[polls08['rankMin']==1].groupby(by='state', as_index=False).mean()[['state','margin']]\n",
    "poll = poll.rename(columns={'margin':'pred'})\n",
    "# 州の名前をつけ直す\n",
    "poll = pd.merge(poll, pres08, how='left', on='state')\n",
    "# 誤差カラムを追加\n",
    "poll['error'] = poll['margin'] - poll['pred']\n",
    "# 誤差の平均を算出(＝平均予測誤差)\n",
    "poll['error'].mean()\n",
    "# root mean squre(2乗平均平方根)で誤差を見てみる\n",
    "math.sqrt((poll['error']**2).mean())"
   ]
  }
 ],
 "metadata": {
  "kernelspec": {
   "display_name": "Python 2",
   "language": "python",
   "name": "python2"
  },
  "language_info": {
   "codemirror_mode": {
    "name": "ipython",
    "version": 2
   },
   "file_extension": ".py",
   "mimetype": "text/x-python",
   "name": "python",
   "nbconvert_exporter": "python",
   "pygments_lexer": "ipython2",
   "version": "2.7.6"
  }
 },
 "nbformat": 4,
 "nbformat_minor": 0
}
