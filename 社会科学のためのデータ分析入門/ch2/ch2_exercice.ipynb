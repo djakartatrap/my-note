{
 "cells": [
  {
   "cell_type": "markdown",
   "metadata": {},
   "source": [
    "# 少数クラス"
   ]
  },
  {
   "cell_type": "markdown",
   "metadata": {},
   "source": [
    "## データ読み込みと確認"
   ]
  },
  {
   "cell_type": "code",
   "execution_count": null,
   "metadata": {
    "collapsed": true
   },
   "outputs": [],
   "source": [
    "import pandas as pd\n",
    "\n",
    "data = pd.read_csv(\"officialSource/qss-master/CAUSALITY/STAR.csv\")\n",
    "\n",
    "# データ外観\n",
    "data.shape\n",
    "\n",
    "# どこにどれくらい欠損がある？\n",
    "data.isnull().sum()\n",
    "# カウントする時は、classtypeをカウントすると良さそう"
   ]
  },
  {
   "cell_type": "markdown",
   "metadata": {},
   "source": [
    "## 練習1\n",
    "- データフレームに kinder という因子変数作成し、classtypeの整数値をわかりやすいラベルに変更\n",
    "- race 変数を、アジア系、ネイティブ・アメリカンを others にまとめ、white, black, hispanic, others の4レベルの因子変数に変更。race変数に直接上書きする\n",
    "- 欠損値除外をする"
   ]
  },
  {
   "cell_type": "code",
   "execution_count": null,
   "metadata": {},
   "outputs": [],
   "source": [
    "data.loc[data[\"classtype\"] == 1, \"kinder\"] = \"small\"\n",
    "data.loc[data[\"classtype\"] == 2, \"kinder\"] = \"regular\"\n",
    "data.loc[data[\"classtype\"] == 3, \"kinder\"] = \"reg w/aid\"\n",
    "\n",
    "data.loc[data[\"race\"].isin([3, 5, 6]), \"race\"] = \"others\"\n",
    "data.loc[data[\"race\"].isin([1]), \"race\"] = \"white\"\n",
    "data.loc[data[\"race\"].isin([2]), \"race\"] = \"black\"\n",
    "data.loc[data[\"race\"].isin([4]), \"race\"] = \"hispanic\"\n",
    "data.groupby(by=\"race\").count()\n",
    "\n",
    "data_nonMissing = data[~data.isnull().any(axis=1)].copy()"
   ]
  },
  {
   "cell_type": "markdown",
   "metadata": {},
   "source": [
    "## 練習2\n",
    "- 4年次の「読解」と「算数」の成績について、少人数クラス所属の生徒と標準規模クラス所属の生徒とを比較する\n",
    "    - 「読解」と「算数」の平均値を、「少人数クラス」「標準規模クラス」のグループ別で比較\n",
    "    - 欠損レコードは除外しておく\n",
    "- 結果の実質的な解釈を簡潔に述べる\n",
    "- 推定された効果の大きさを理解するため、テスト点数の標準偏差を比べる"
   ]
  },
  {
   "cell_type": "code",
   "execution_count": null,
   "metadata": {},
   "outputs": [],
   "source": [
    "temp = data.groupby(by=\"kinder\").mean()[[\"g4math\", \"g4reading\"]]\n",
    "# 読解の平均の差\n",
    "temp.loc[\"small\", \"g4reading\"] - temp.loc[\"regular\", \"g4reading\"]\n",
    "# 算数の平均の差\n",
    "temp.loc[\"small\", \"g4math\"] - temp.loc[\"regular\", \"g4math\"]\n",
    "\n",
    "import matplotlib.pyplot as plt\n",
    "import seaborn as sns\n",
    "sns.set(style=\"white\", color_codes=True)\n",
    "\n",
    "# 標準偏差を出す\n",
    "temp = data.groupby(by=\"kinder\").std()[[\"g4math\", \"g4reading\"]]\n",
    "temp.loc[\"small\", \"g4reading\"] - temp.loc[\"regular\", \"g4reading\"]\n",
    "temp.loc[\"small\", \"g4math\"] - temp.loc[\"regular\", \"g4math\"]\n",
    "# ばらつきを確認\n",
    "ax = sns.distplot(data_nonMissing.loc[data_nonMissing[\"kinder\"]==\"small\", \"g4reading\"], label=\"small\")\n",
    "sns.distplot(data_nonMissing.loc[data_nonMissing[\"kinder\"]==\"regular\", \"g4reading\"], ax=ax, label=\"regular\")\n",
    "ax.legend()\n",
    "plt.show()"
   ]
  },
  {
   "cell_type": "code",
   "execution_count": null,
   "metadata": {},
   "outputs": [],
   "source": [
    "# 模範解答では、個別に標準偏差は出さず、全体で出していたのでやってみる\n",
    "data[\"g4reading\"].std(skipna=True)\n",
    "data[\"g4math\"].std(skipna=True)"
   ]
  },
  {
   "cell_type": "markdown",
   "metadata": {},
   "source": [
    "少数クラスと、標準規模クラスでは、読解の平均点の差が3.5点、算数の平均点の差が-0.34点であった。\n",
    "\n",
    "標準偏差の値が、読解は52.4259、算数が43.0921である。このバラツキが起きる集団において、平均点の差が4点未満というのは、\n",
    "充分に偶然起こりうる範囲内の点差と考えられるので、少数クラスによる介入効果は無いと考えられる。"
   ]
  },
  {
   "cell_type": "markdown",
   "metadata": {},
   "source": [
    "## 練習3\n",
    "- 少人数クラスと標準規模クラスの、点数の範囲を調べる\n",
    "    - 66パーセンタイルで示されるハイスコア、33パーセンタイルで示されるロースコア同士を比較する\n",
    "- この分析＋練習2の平均値による分析とを合わせて、なにか言えるか？"
   ]
  },
  {
   "cell_type": "code",
   "execution_count": null,
   "metadata": {},
   "outputs": [],
   "source": [
    "small_df = data[data[\"kinder\"]==\"small\"].copy()\n",
    "regular_df = data[data[\"kinder\"]==\"regular\"].copy()\n",
    "\n",
    "small_df[\"g4reading\"].quantile(0.33) - regular_df[\"g4reading\"].quantile(0.33)\n",
    "small_df[\"g4reading\"].quantile(0.66) - regular_df[\"g4reading\"].quantile(0.66)\n",
    "small_df[\"g4math\"].quantile(0.33) - regular_df[\"g4math\"].quantile(0.33)\n",
    "small_df[\"g4math\"].quantile(0.66) - regular_df[\"g4math\"].quantile(0.66)"
   ]
  },
  {
   "cell_type": "markdown",
   "metadata": {},
   "source": [
    "3分位数の差もかなり小さく、ほぼ差がない状態。これは、分布にも差がない事を示しており、前述の平均値でも差がない事から、やはり幼稚園時代のクラスの規模が与えた変化は特になかった、と考えられる。"
   ]
  },
  {
   "cell_type": "markdown",
   "metadata": {},
   "source": [
    "## 練習4\n",
    "- 幼稚園時代に小規模クラスにいたかどうかのフラグと、その後も小規模クラスに何年所属し続けたかのデータがあるので、クロス集計表(人数)を作る\n",
    "- 少人数クラスにより長く在籍した場合、テストの点数に大きな変化はあるだろうか？平均値、中央値を見比べてみよう"
   ]
  },
  {
   "cell_type": "code",
   "execution_count": null,
   "metadata": {},
   "outputs": [],
   "source": [
    "# クロス集計表を作る\n",
    "data.groupby(by=[\"kinder\",\"yearssmall\"]).count()[\"classtype\"].unstack(\"yearssmall\").to_csv(\"ch2/cross.csv\", encoding=\"utf-8-sig\")\n",
    "\n",
    "# yearssmall別で、色々と指標を見てみる\n",
    "data.groupby(by=\"yearssmall\").describe()[[\"g4math\", \"g4reading\"]]\n",
    "\n",
    "# 分布図を書いてみる g4reading\n",
    "ax = sns.distplot(data.loc[data[\"yearssmall\"] == 0, \"g4reading\"].dropna(), label=\"0\")\n",
    "ax = sns.distplot(data.loc[data[\"yearssmall\"] == 1, \"g4reading\"].dropna(), label=\"1\", ax=ax)\n",
    "ax = sns.distplot(data.loc[data[\"yearssmall\"] == 2, \"g4reading\"].dropna(), label=\"2\", ax=ax)\n",
    "ax = sns.distplot(data.loc[data[\"yearssmall\"] == 3, \"g4reading\"].dropna(), label=\"3\", ax=ax)\n",
    "ax = sns.distplot(data.loc[data[\"yearssmall\"] == 4, \"g4reading\"].dropna(), label=\"4\", ax=ax)\n",
    "ax.legend()\n",
    "plt.show()\n",
    "\n",
    "# 分布図を書いてみる g4math\n",
    "temp = data.loc[data[\"yearssmall\"] == 0, \"g4math\"]\n",
    "ax = sns.distplot(temp.dropna(), label=\"0\")\n",
    "ax = sns.distplot(data.loc[data[\"yearssmall\"] == 1, \"g4math\"].dropna(), label=\"1\", ax=ax)\n",
    "ax = sns.distplot(data.loc[data[\"yearssmall\"] == 2, \"g4math\"].dropna(), label=\"2\", ax=ax)\n",
    "ax = sns.distplot(data.loc[data[\"yearssmall\"] == 3, \"g4math\"].dropna(), label=\"3\", ax=ax)\n",
    "ax = sns.distplot(data.loc[data[\"yearssmall\"] == 4, \"g4math\"].dropna(), label=\"4\", ax=ax)\n",
    "ax.legend()\n",
    "plt.show()"
   ]
  },
  {
   "cell_type": "markdown",
   "metadata": {},
   "source": [
    "## 練習5 「STARプロジェクトで人種間の学力差はうまったのか？」を調べる\n",
    "- classtype別の、白人orマイノリティの平均点比較をする"
   ]
  },
  {
   "cell_type": "code",
   "execution_count": null,
   "metadata": {},
   "outputs": [],
   "source": [
    "del data[\"race_class\"]\n",
    "\n",
    "data.loc[data[\"race\"]==\"white\", \"race_class\"] = \"white\"\n",
    "data.loc[data[\"race\"].isin([\"black\", \"hispanic\"]), \"race_class\"] = \"minority\"\n",
    "temp = data.groupby(by=[\"kinder\", \"race_class\"]).mean().unstack(\"race_class\")\n",
    "temp\n",
    "\n",
    "temp.loc[\"regular\", (\"g4reading\", \"white\")] - temp.loc[\"regular\", (\"g4reading\", \"minority\")]\n",
    "temp.loc[\"small\", (\"g4reading\", \"white\")] - temp.loc[\"small\", (\"g4reading\", \"minority\")]\n",
    "temp.loc[\"regular\", (\"g4math\", \"white\")] - temp.loc[\"regular\", (\"g4math\", \"minority\")]\n",
    "temp.loc[\"small\", (\"g4math\", \"white\")] - temp.loc[\"small\", (\"g4math\", \"minority\")]\n",
    "# 分布状況を把握\n",
    "data.groupby(by=[\"kinder\", \"race_class\"]).describe()[[\"g4reading\"]]\n",
    "data.groupby(by=[\"kinder\", \"race_class\"]).describe()[[\"g4math\"]]\n",
    "\n",
    "\n",
    "# 毎度、分布を見ておく\n",
    "# minority の読解点数の分布\n",
    "ax = sns.distplot(data.loc[(data[\"race_class\"] == \"minority\") & (data[\"kinder\"] == \"small\"), \"g4reading\"].dropna(), label=\"small\")\n",
    "ax = sns.distplot(data.loc[(data[\"race_class\"] == \"minority\") & (data[\"kinder\"] == \"regular\"), \"g4reading\"].dropna(), label=\"regular\", ax=ax)\n",
    "ax = sns.distplot(data.loc[(data[\"race_class\"] == \"minority\") & (data[\"kinder\"] == \"reg w/aid\"), \"g4reading\"].dropna(), label=\"reg w/aid\", ax=ax)\n",
    "ax.legend()\n",
    "plt.show()\n",
    "\n"
   ]
  },
  {
   "cell_type": "markdown",
   "metadata": {},
   "source": [
    "読解力においては、標準クラスの白人とマイノリティの点差が36点なのに対し、小規模クラスでは28点と、8点ほど縮まっている。同様の計算をすると、算数ではほぼ変化無し。\n",
    "このことから、読解力においては、マイノリティの学習効果は上がる傾向がある。"
   ]
  }
 ],
 "metadata": {
  "kernelspec": {
   "display_name": "Python 2",
   "language": "python",
   "name": "python2"
  },
  "language_info": {
   "codemirror_mode": {
    "name": "ipython",
    "version": 2
   },
   "file_extension": ".py",
   "mimetype": "text/x-python",
   "name": "python",
   "nbconvert_exporter": "python",
   "pygments_lexer": "ipython2",
   "version": "2.7.6"
  }
 },
 "nbformat": 4,
 "nbformat_minor": 0
}
