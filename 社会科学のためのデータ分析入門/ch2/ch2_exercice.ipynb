{
 "cells": [
  {
   "cell_type": "markdown",
   "metadata": {},
   "source": [
    "# 少数クラス"
   ]
  },
  {
   "cell_type": "markdown",
   "metadata": {},
   "source": [
    "## データ読み込みと確認"
   ]
  },
  {
   "cell_type": "code",
   "execution_count": null,
   "metadata": {
    "collapsed": true
   },
   "outputs": [],
   "source": [
    "import pandas as pd\n",
    "\n",
    "data = pd.read_csv(\"officialSource/qss-master/CAUSALITY/STAR.csv\")\n",
    "\n",
    "# データ外観\n",
    "data.shape\n",
    "\n",
    "# どこにどれくらい欠損がある？\n",
    "data.isnull().sum()\n",
    "# カウントする時は、classtypeをカウントすると良さそう"
   ]
  },
  {
   "cell_type": "markdown",
   "metadata": {},
   "source": [
    "## 練習1\n",
    "- データフレームに kinder という因子変数作成し、classtypeの整数値をわかりやすいラベルに変更\n",
    "- race 変数を、アジア系、ネイティブ・アメリカンを others にまとめ、white, black, hispanic, others の4レベルの因子変数に変更。race変数に直接上書きする\n",
    "- 欠損値除外をする"
   ]
  },
  {
   "cell_type": "code",
   "execution_count": null,
   "metadata": {},
   "outputs": [],
   "source": [
    "data.loc[data[\"classtype\"] == 1, \"kinder\"] = \"small\"\n",
    "data.loc[data[\"classtype\"] == 2, \"kinder\"] = \"regular\"\n",
    "data.loc[data[\"classtype\"] == 3, \"kinder\"] = \"reg w/aid\"\n",
    "\n",
    "data.loc[data[\"race\"].isin([3, 5, 6]), \"race\"] = \"others\"\n",
    "data.loc[data[\"race\"].isin([1]), \"race\"] = \"white\"\n",
    "data.loc[data[\"race\"].isin([2]), \"race\"] = \"black\"\n",
    "data.loc[data[\"race\"].isin([4]), \"race\"] = \"hispanic\"\n",
    "data.groupby(by=\"race\").count()\n",
    "\n",
    "data_nonMissing = data[~data.isnull().any(axis=1)].copy()"
   ]
  },
  {
   "cell_type": "markdown",
   "metadata": {},
   "source": [
    "## 練習2\n",
    "- 4年次の「読解」と「算数」の成績について、少人数クラス所属の生徒と標準規模クラス所属の生徒とを比較する\n",
    "    - 「読解」と「算数」の平均値を、「少人数クラス」「標準規模クラス」のグループ別で比較\n",
    "    - 欠損レコードは除外しておく\n",
    "- 結果の実質的な解釈を簡潔に述べる\n",
    "- 推定された効果の大きさを理解するため、テスト点数の標準偏差を比べる"
   ]
  },
  {
   "cell_type": "code",
   "execution_count": null,
   "metadata": {},
   "outputs": [],
   "source": [
    "temp = data.groupby(by=\"kinder\").mean()[[\"g4math\", \"g4reading\"]]\n",
    "# 読解の平均の差\n",
    "temp.loc[\"small\", \"g4reading\"] - temp.loc[\"regular\", \"g4reading\"]\n",
    "# 算数の平均の差\n",
    "temp.loc[\"small\", \"g4math\"] - temp.loc[\"regular\", \"g4math\"]\n",
    "\n",
    "import matplotlib.pyplot as plt\n",
    "import seaborn as sns\n",
    "sns.set(style=\"white\", color_codes=True)\n",
    "\n",
    "# 標準偏差を出す\n",
    "temp = data.groupby(by=\"kinder\").std()[[\"g4math\", \"g4reading\"]]\n",
    "temp.loc[\"small\", \"g4reading\"] - temp.loc[\"regular\", \"g4reading\"]\n",
    "temp.loc[\"small\", \"g4math\"] - temp.loc[\"regular\", \"g4math\"]\n",
    "# ばらつきを確認\n",
    "ax = sns.distplot(data_nonMissing.loc[data_nonMissing[\"kinder\"]==\"small\", \"g4reading\"], label=\"small\")\n",
    "sns.distplot(data_nonMissing.loc[data_nonMissing[\"kinder\"]==\"regular\", \"g4reading\"], ax=ax, label=\"regular\")\n",
    "ax.legend()\n",
    "plt.show()"
   ]
  },
  {
   "cell_type": "code",
   "execution_count": null,
   "metadata": {},
   "outputs": [],
   "source": [
    "# 模範解答では、個別に標準偏差は出さず、全体で出していたのでやってみる\n",
    "data[\"g4reading\"].std(skipna=True)\n",
    "data[\"g4math\"].std(skipna=True)"
   ]
  },
  {
   "cell_type": "markdown",
   "metadata": {},
   "source": [
    "少数クラスと、標準規模クラスでは、読解の平均点の差が3.5点、算数の平均点の差が-0.34点であった。\n",
    "\n",
    "標準偏差の値が、読解は52.4259、算数が43.0921である。このバラツキが起きる集団において、平均点の差が4点未満というのは、\n",
    "充分に偶然起こりうる範囲内の点差と考えられるので、少数クラスによる介入効果は無いと考えられる。"
   ]
  },
  {
   "cell_type": "markdown",
   "metadata": {},
   "source": [
    "## 練習3\n",
    "- 少人数クラスと標準規模クラスの、点数の範囲を調べる\n",
    "    - 66パーセンタイルで示されるハイスコア、33パーセンタイルで示されるロースコア同士を比較する\n",
    "- この分析＋練習2の平均値による分析とを合わせて、なにか言えるか？"
   ]
  },
  {
   "cell_type": "code",
   "execution_count": null,
   "metadata": {},
   "outputs": [],
   "source": [
    "small_df = data[data[\"kinder\"]==\"small\"].copy()\n",
    "regular_df = data[data[\"kinder\"]==\"regular\"].copy()\n",
    "\n",
    "small_df[\"g4reading\"].quantile(0.33) - regular_df[\"g4reading\"].quantile(0.33)\n",
    "small_df[\"g4reading\"].quantile(0.66) - regular_df[\"g4reading\"].quantile(0.66)\n",
    "small_df[\"g4math\"].quantile(0.33) - regular_df[\"g4math\"].quantile(0.33)\n",
    "small_df[\"g4math\"].quantile(0.66) - regular_df[\"g4math\"].quantile(0.66)"
   ]
  },
  {
   "cell_type": "markdown",
   "metadata": {},
   "source": [
    "3分位数の差もかなり小さく、ほぼ差がない状態。これは、分布にも差がない事を示しており、前述の平均値でも差がない事から、やはり幼稚園時代のクラスの規模が与えた変化は特になかった、と考えられる。"
   ]
  },
  {
   "cell_type": "markdown",
   "metadata": {},
   "source": [
    "## 練習4\n",
    "- 幼稚園時代に小規模クラスにいたかどうかのフラグと、その後も小規模クラスに何年所属し続けたかのデータがあるので、クロス集計表(人数)を作る\n",
    "- 少人数クラスにより長く在籍した場合、テストの点数に大きな変化はあるだろうか？平均値、中央値を見比べてみよう"
   ]
  },
  {
   "cell_type": "code",
   "execution_count": null,
   "metadata": {},
   "outputs": [],
   "source": [
    "# クロス集計表を作る\n",
    "data.groupby(by=[\"kinder\",\"yearssmall\"]).count()[\"classtype\"].unstack(\"yearssmall\").to_csv(\"ch2/cross.csv\", encoding=\"utf-8-sig\")\n",
    "\n",
    "# yearssmall別で、色々と指標を見てみる\n",
    "data.groupby(by=\"yearssmall\").describe()[[\"g4math\", \"g4reading\"]]\n",
    "\n",
    "# 分布図を書いてみる g4reading\n",
    "ax = sns.distplot(data.loc[data[\"yearssmall\"] == 0, \"g4reading\"].dropna(), label=\"0\")\n",
    "ax = sns.distplot(data.loc[data[\"yearssmall\"] == 1, \"g4reading\"].dropna(), label=\"1\", ax=ax)\n",
    "ax = sns.distplot(data.loc[data[\"yearssmall\"] == 2, \"g4reading\"].dropna(), label=\"2\", ax=ax)\n",
    "ax = sns.distplot(data.loc[data[\"yearssmall\"] == 3, \"g4reading\"].dropna(), label=\"3\", ax=ax)\n",
    "ax = sns.distplot(data.loc[data[\"yearssmall\"] == 4, \"g4reading\"].dropna(), label=\"4\", ax=ax)\n",
    "ax.legend()\n",
    "plt.show()\n",
    "\n",
    "# 分布図を書いてみる g4math\n",
    "temp = data.loc[data[\"yearssmall\"] == 0, \"g4math\"]\n",
    "ax = sns.distplot(temp.dropna(), label=\"0\")\n",
    "ax = sns.distplot(data.loc[data[\"yearssmall\"] == 1, \"g4math\"].dropna(), label=\"1\", ax=ax)\n",
    "ax = sns.distplot(data.loc[data[\"yearssmall\"] == 2, \"g4math\"].dropna(), label=\"2\", ax=ax)\n",
    "ax = sns.distplot(data.loc[data[\"yearssmall\"] == 3, \"g4math\"].dropna(), label=\"3\", ax=ax)\n",
    "ax = sns.distplot(data.loc[data[\"yearssmall\"] == 4, \"g4math\"].dropna(), label=\"4\", ax=ax)\n",
    "ax.legend()\n",
    "plt.show()"
   ]
  },
  {
   "cell_type": "markdown",
   "metadata": {},
   "source": [
    "## 練習5 「STARプロジェクトで人種間の学力差はうまったのか？」を調べる\n",
    "- classtype別の、白人orマイノリティの平均点比較をする"
   ]
  },
  {
   "cell_type": "code",
   "execution_count": null,
   "metadata": {},
   "outputs": [],
   "source": [
    "del data[\"race_class\"]\n",
    "\n",
    "data.loc[data[\"race\"]==\"white\", \"race_class\"] = \"white\"\n",
    "data.loc[data[\"race\"].isin([\"black\", \"hispanic\"]), \"race_class\"] = \"minority\"\n",
    "temp = data.groupby(by=[\"kinder\", \"race_class\"]).mean().unstack(\"race_class\")\n",
    "temp\n",
    "\n",
    "temp.loc[\"regular\", (\"g4reading\", \"white\")] - temp.loc[\"regular\", (\"g4reading\", \"minority\")]\n",
    "temp.loc[\"small\", (\"g4reading\", \"white\")] - temp.loc[\"small\", (\"g4reading\", \"minority\")]\n",
    "temp.loc[\"regular\", (\"g4math\", \"white\")] - temp.loc[\"regular\", (\"g4math\", \"minority\")]\n",
    "temp.loc[\"small\", (\"g4math\", \"white\")] - temp.loc[\"small\", (\"g4math\", \"minority\")]\n",
    "# 分布状況を把握\n",
    "data.groupby(by=[\"kinder\", \"race_class\"]).describe()[[\"g4reading\"]]\n",
    "data.groupby(by=[\"kinder\", \"race_class\"]).describe()[[\"g4math\"]]\n",
    "\n",
    "\n",
    "# 毎度、分布を見ておく\n",
    "# minority の読解点数の分布\n",
    "ax = sns.distplot(data.loc[(data[\"race_class\"] == \"minority\") & (data[\"kinder\"] == \"small\"), \"g4reading\"].dropna(), label=\"small\")\n",
    "ax = sns.distplot(data.loc[(data[\"race_class\"] == \"minority\") & (data[\"kinder\"] == \"regular\"), \"g4reading\"].dropna(), label=\"regular\", ax=ax)\n",
    "ax = sns.distplot(data.loc[(data[\"race_class\"] == \"minority\") & (data[\"kinder\"] == \"reg w/aid\"), \"g4reading\"].dropna(), label=\"reg w/aid\", ax=ax)\n",
    "ax.legend()\n",
    "plt.show()\n",
    "\n"
   ]
  },
  {
   "cell_type": "markdown",
   "metadata": {},
   "source": [
    "読解力においては、標準クラスの白人とマイノリティの点差が36点なのに対し、小規模クラスでは28点と、8点ほど縮まっている。同様の計算をすると、算数ではほぼ変化無し。\n",
    "このことから、読解力においては、マイノリティの学習効果は上がる傾向がある。"
   ]
  },
  {
   "cell_type": "markdown",
   "metadata": {},
   "source": [
    "## 練習6\n",
    "- 異なるタイプのクラスに割り当てられた生徒の高校卒業率を比較\n",
    "- 少人数クラスに在籍した期間別の卒業率を比較\n",
    "- STARプロジェクトが白人とマイノリティ(黒人とヒスパニック)の卒業率の格差を縮めたかどうかを調べる"
   ]
  },
  {
   "cell_type": "code",
   "execution_count": null,
   "metadata": {},
   "outputs": [],
   "source": [
    "data.dropna(subset=[\"hsgrad\"]).groupby(\"kinder\", as_index=False).mean()\n",
    "data.groupby(\"kinder\", as_index=False)[[\"hsgrad\"]].describe()\n",
    "# 2値なので、クロス集計で分布を確認\n",
    "pd.crosstab(data[\"kinder\"],data[\"hsgrad\"], margins=True)\n",
    "\n",
    "# 検証・pandas の平均は、None系はそもそも対象外(＝分母に入れない)として計算してくれてる。\n",
    "import numpy as np\n",
    "pd.Series([1,2,3,np.nan]).mean()\n",
    "\n",
    "\n",
    "data.groupby(by=\"yearssmall\", as_index=False)[[\"hsgrad\"]].describe()\n",
    "pd.crosstab(data[\"yearssmall\"], data[\"hsgrad\"], margins=True)\n",
    "\n",
    "# マイノリティ別の卒業率\n",
    "# 幼稚園時のクラス規模が、人種間の卒業率格差に貢献できていたか？\n",
    "temp = data.groupby(by=[\"race_class\", \"kinder\"], as_index=False).mean()[[\"kinder\", \"race_class\", \"hsgrad\"]]\n",
    "temp = temp.pivot(index=\"kinder\", columns=\"race_class\")\n",
    "temp[(\"hsgrad\",\"white\")] - temp[(\"hsgrad\",\"minority\")]\n",
    "\n",
    "temp = data.groupby(by=[\"race_class\", \"yearssmall\"], as_index=False).mean()[[\"yearssmall\", \"race_class\", \"hsgrad\"]]\n",
    "temp = temp.pivot(index=\"yearssmall\", columns=\"race_class\")\n",
    "temp[(\"hsgrad\",\"white\")] - temp[(\"hsgrad\",\"minority\")]"
   ]
  },
  {
   "cell_type": "markdown",
   "metadata": {},
   "source": [
    "高校卒業率は、幼稚園時のクラス規模別での違いは見られないが、小規模クラスにいた年数別で見てみると、卒業率は異なっている。\n",
    "1年間だけ所属するよりも、4年所属していた方が8%ポイントほど卒業率が高く、且つ、所属した期間が無い人よりも5%ポイント高い。\n",
    "このことから、小規模クラスに所属した年数が多いほど高校卒業率は高まり、3年以上所属すると、所属したことが無い人よりも高校卒業率が高くなる。\n",
    "\n",
    "人種間の格差をSTARプロジェクトが貢献したかどうかについては、上記同様、幼稚園時のクラス規模は特には貢献しておらず、小規模クラス所属期間が長いほど縮まる事もなく、逆に開いていたので、人種間格差については特に貢献はしていない。"
   ]
  },
  {
   "cell_type": "markdown",
   "metadata": {},
   "source": [
    "# 同性婚に関する意見"
   ]
  },
  {
   "cell_type": "markdown",
   "metadata": {},
   "source": [
    "## 練習1\n",
    "ベースラインインタビューを使って、ランダム化が正しく行われているかを確認する"
   ]
  },
  {
   "cell_type": "code",
   "execution_count": null,
   "metadata": {},
   "outputs": [],
   "source": [
    "data2 = pd.read_csv(\"officialSource/qss-master/CAUSALITY/gay.csv\")\n",
    "data2.shape\n",
    "data2.isnull().sum() # 欠損なし\n",
    "\n",
    "# どういうトリートメントが行われた調査だったのかを把握するための describe\n",
    "data2.groupby([\"study\", \"treatment\"]).describe()\n",
    "\n",
    "# wave1群でのインタビューは、戸別訪問が行われる前に実施されている(＝介入前に実施)ので、\n",
    "# このwave1 の値を見れば、無作為抽出されているのかどうかを確認できる。\n",
    "temp = data2[(data2[\"wave\"] == 1) & (data2[\"study\"]==1)]\n",
    "temp.groupby(\"treatment\").describe()[[\"ssm\"]]"
   ]
  },
  {
   "cell_type": "markdown",
   "metadata": {},
   "source": [
    "ssmスコア平均がほぼ同じで、中央値やSTDもほぼ差がないので、無作為抽出できていると考えられる。"
   ]
  },
  {
   "cell_type": "markdown",
   "metadata": {},
   "source": [
    "## 練習2\n",
    "戸別訪問(＝介入)が行われた2ヶ月後、wave2調査が実施された。ゲイに接触した人とそうでない人との間で、同性婚支持率の違いがあったかどうかを推定して！"
   ]
  },
  {
   "cell_type": "code",
   "execution_count": null,
   "metadata": {},
   "outputs": [],
   "source": [
    "temp = data2[(data2[\"wave\"] == 2) & (data2[\"study\"] == 1)]\n",
    "temp.groupby(\"treatment\").describe()[[\"ssm\"]]\n",
    "temp = temp.groupby(\"treatment\").mean()[[\"ssm\"]]\n",
    "\n",
    "temp.loc[\"Same-Sex Marriage Script by Gay Canvasser\", \"ssm\"] - temp.loc[\"No Contact\", \"ssm\"]\n",
    "temp.loc[\"Same-Sex Marriage Script by Straight Canvasser\", \"ssm\"] - temp.loc[\"No Contact\", \"ssm\"]"
   ]
  },
  {
   "cell_type": "markdown",
   "metadata": {},
   "source": [
    "当事者接触アリの人は支持率0.10アップ、ナシの人は0.12アップという結果。\n",
    "当事者接触の効果は特になさそう。"
   ]
  },
  {
   "cell_type": "markdown",
   "metadata": {},
   "source": [
    "## 練習3\n",
    "この調査では、なぜ同性婚支持台本を使わない個別訪問を行ったトリートメントグループも加えられているのだろうか？\n",
    "- study1, wave2 を使って、「ゲイの訪問員による同性婚支持台本」と「ゲイの訪問員によるリサイクル促進台本」のトリートメント効果を比較しよう\n",
    "- 同様に、ストレートの人も比較しよう\n",
    "- これらの比較からわかることはなんだろうか？"
   ]
  },
  {
   "cell_type": "code",
   "execution_count": null,
   "metadata": {},
   "outputs": [],
   "source": [
    "temp = data2[(data2[\"study\"] == 1) & (data2[\"wave\"]==2)]\n",
    "temp = temp.groupby(\"treatment\").mean()[[\"ssm\"]]\n",
    "temp.loc[\"Same-Sex Marriage Script by Gay Canvasser\", \"ssm\"] - temp.loc[\"Recycling Script by Gay Canvasser\", \"ssm\"]\n",
    "temp.loc[\"Same-Sex Marriage Script by Straight Canvasser\", \"ssm\"] - temp.loc[\"Recycling Script by Straight Canvasser\", \"ssm\"]"
   ]
  },
  {
   "cell_type": "markdown",
   "metadata": {},
   "source": [
    "当事者に接するだけで、直接的に同性婚支持を訴えずとも支持率は上がるが、(台本が違ってもどちらも同じくらいの支持率上昇貢献度)\n",
    "当事者に接しない場合は、直接的に同性婚支持を訴えないと支持率上昇には貢献しない。(台本が違うと、支持率上昇貢献度も違う)"
   ]
  },
  {
   "cell_type": "markdown",
   "metadata": {},
   "source": [
    "## 練習4\n",
    "- 1年後のインタビュー調査から、戸別訪問の効果が持続しているかどうかを見る\n",
    "    - 各waveごとに、コントロールを比較対象として、同性婚台本を用いたゲイとストレートの訪問員の平均効果を求める\n",
    "    - 持続している場合は、どのような条件で持続しているのだろうか？"
   ]
  },
  {
   "cell_type": "code",
   "execution_count": null,
   "metadata": {},
   "outputs": [],
   "source": [
    "temp = data2[data2[\"study\"]==1].groupby(by=[\"treatment\", \"wave\"]).mean()[[\"ssm\"]].unstack(\"treatment\")\n",
    "temp[(\"ssm\", \"Same-Sex Marriage Script by Gay Canvasser\")] - temp[(\"ssm\", \"No Contact\")]\n",
    "temp[(\"ssm\", \"Same-Sex Marriage Script by Straight Canvasser\")] - temp[(\"ssm\", \"No Contact\")]"
   ]
  },
  {
   "cell_type": "markdown",
   "metadata": {},
   "source": [
    "訪問員がゲイの人の方が、1年後も支持率を維持しやすい"
   ]
  },
  {
   "cell_type": "markdown",
   "metadata": {},
   "source": [
    "## 練習5\n",
    "研究1を再現するために、研究2が行われた。\n",
    "- 研究2について、「ゲイの訪問員による同性婚台本」「個別訪問なし」を使って、ランダム化が適切に行われているかを調べて！\n",
    "    - ベースラインとしては wave1を使う"
   ]
  },
  {
   "cell_type": "code",
   "execution_count": null,
   "metadata": {},
   "outputs": [],
   "source": [
    "temp = data2[data2[\"study\"]==2]\n",
    "temp[temp[\"wave\"]==1].groupby(by=\"treatment\").describe()[\"ssm\"]"
   ]
  },
  {
   "cell_type": "markdown",
   "metadata": {},
   "source": [
    "ssmの平均値が一致、標準偏差もほぼ同じなので、正しくランダム化出来ている"
   ]
  },
  {
   "cell_type": "markdown",
   "metadata": {},
   "source": [
    "## 練習6\n",
    "- 第2波のデータから、ゲイの訪問員によるトリートメント効果を推定しなはれ\n",
    "- その結果は、研究1と一致しているか？"
   ]
  },
  {
   "cell_type": "code",
   "execution_count": null,
   "metadata": {},
   "outputs": [],
   "source": [
    "temp = temp[temp[\"wave\"]==2].groupby(by=\"treatment\").mean()[[\"ssm\"]]\n",
    "temp.loc[\"Same-Sex Marriage Script by Gay Canvasser\", \"ssm\"] - temp.loc[\"No Contact\", \"ssm\"] "
   ]
  },
  {
   "cell_type": "markdown",
   "metadata": {},
   "source": [
    "ゲイの訪問員と接する場合と、訪問員ナシの差は0.12。研究1とほぼ同等。"
   ]
  },
  {
   "cell_type": "markdown",
   "metadata": {},
   "source": [
    "## 練習7\n",
    "- 研究2を使って、調査時点ごとのゲイ訪問員による平均効果を推定せよ\n",
    "- 時間とともにどのように変化していったかを調べよ\n",
    "- 研究1と研究2から、研究全体の結論を導こう"
   ]
  },
  {
   "cell_type": "code",
   "execution_count": null,
   "metadata": {},
   "outputs": [],
   "source": [
    "temp = data2[data2[\"study\"]==2]\n",
    "temp = temp.groupby(by=[\"treatment\", \"wave\"]).mean()[[\"ssm\"]].unstack(\"treatment\")\n",
    "temp[(\"ssm\", \"Same-Sex Marriage Script by Gay Canvasser\")] - temp[(\"ssm\", \"No Contact\")]"
   ]
  },
  {
   "cell_type": "markdown",
   "metadata": {},
   "source": [
    "研究2でも、1年経っても当事者接触をした方が同性婚支持率を上げる効果が持続していた。\n",
    "\n",
    "事実として\n",
    "- ゲイ当事者による訪問は、取り上げる話題が何であれ、同性婚支持を上げやすい\n",
    "- 同性婚支持を訴える内容での訪問であれば、訪問者が当事者であろうがなかろうが、同性婚支持を上げる事に変わりはないが、1年後も支持をしているかどうかは、訪問者が当事者である方が成績が良い\n",
    "\n",
    "結論\n",
    "- 長期的な効果を望む場合は、当事者による訪問をしたほうがよい\n",
    "- 短期的な効果であれば、ストレートの訪問者でも効果は同等にある"
   ]
  },
  {
   "cell_type": "markdown",
   "metadata": {},
   "source": [
    "# 自然実験としての指導者暗殺の成功"
   ]
  },
  {
   "cell_type": "markdown",
   "metadata": {},
   "source": [
    "## 練習1\n",
    "- いくつの暗殺計画が記録されているか？\n",
    "- 少なくとも1回は指導者暗殺が計画された国はいくつある？\n",
    "\t- それらの国では年に平均していくつの暗殺計画があるだろうか\n",
    " "
   ]
  },
  {
   "cell_type": "code",
   "execution_count": null,
   "metadata": {},
   "outputs": [],
   "source": [
    "data3 = pd.read_csv(\"officialSource/qss-master/CAUSALITY/leaders.csv\")\n",
    "data3.shape\n",
    "data3.columns\n",
    "\n",
    "# 暗殺計画の回数\n",
    "data3.drop_duplicates(subset=[\"country\", \"leadername\", \"result\"]).shape\n",
    "# 何回も暗殺計画があった人ってだれ？\n",
    "temp = data3.groupby(by=[\"country\", \"leadername\", \"result\"], as_index=False).count()\n",
    "temp = temp[temp[\"year\"] > 1]\n",
    "# 同じ人に対して何度も暗殺計画が実行された人はいるが、暗殺計画そのものをカウントする\n",
    "data3.shape[0]\n",
    "\n",
    "# 少なくとも1回は指導者暗殺計画が実行された国の数\n",
    "data3[\"country\"].nunique()\n",
    "\n",
    "# 暗殺計画があった国の、暗殺計画実行回数の年平均\n",
    "data3.groupby(by=\"year\").count()[\"country\"].mean()"
   ]
  },
  {
   "cell_type": "markdown",
   "metadata": {},
   "source": [
    "## 練習2\n",
    "- 指導者が死亡したら1、生き残ったら0というという「success」カラムを作成して！\n",
    "- 指導者暗殺計画の成功率はどれくらい？\n",
    "- 暗殺の成功はランダムに決まるといってよいか？"
   ]
  },
  {
   "cell_type": "code",
   "execution_count": null,
   "metadata": {},
   "outputs": [],
   "source": [
    "# successカラムを作成\n",
    "# データ状況を把握\n",
    "data3[\"result\"].unique()\n",
    "data3[\"result\"].isnull().any()\n",
    "# successカラムを作成\n",
    "data3.loc[data3[\"result\"].str.contains(\"dies\"), \"success\"] = 1\n",
    "data3.loc[~data3[\"result\"].str.contains(\"dies\"), \"success\"] = 0\n",
    "\n",
    "# 暗殺の成功率\n",
    "data3[\"success\"].mean()"
   ]
  },
  {
   "cell_type": "markdown",
   "metadata": {},
   "source": [
    "暗殺の成功率は22%。\n",
    "~~ランダムにきまっているのであれば50%であるはずなので、ランダムにきまっているとは言えず、なんらかの要因が関与していると言える。~~\n",
    "暗殺の成功がランダムに決まっているかどうかは不明瞭である。少なくとも、全ての暗殺計画が成功しているわけではないという事は言える。しかしながら、他の要因(暗殺者のスキル、リーダーの健康状態、リーダーの警護の状況等)が成功に関与しているのかどうかもわからない状況である。"
   ]
  },
  {
   "cell_type": "markdown",
   "metadata": {},
   "source": [
    "## 練習3\n",
    "- 暗殺成功事案と失敗事案、以下の項目の違いはある？\n",
    "\t- 暗殺計画までのポリティ指標の平均\n",
    "\t- 狙われた指導者の年齢\n",
    "\t- 「暗殺の成功はランダムに決まる」という仮定は妥当かどうか？"
   ]
  },
  {
   "cell_type": "code",
   "execution_count": null,
   "metadata": {},
   "outputs": [],
   "source": [
    "# ポリティ指標の平均\n",
    "data3.groupby(by=\"success\").mean()[[\"politybefore\"]]\n",
    "data3.groupby(by=\"success\").count()\n",
    "# ポリティ指標の分布\n",
    "import matplotlib as mpl\n",
    "font = {\"family\":\"Ricty\"}\n",
    "mpl.rc('font', **font)\n",
    "ax = sns.distplot(data3.loc[data3[\"success\"] == 0, \"politybefore\"].dropna(), label=\"暗殺失敗\")\n",
    "ax = sns.distplot(data3.loc[data3[\"success\"] == 1, \"politybefore\"].dropna(), label=\"暗殺成功\", ax=ax)\n",
    "plt.legend()\n",
    "plt.show()\n",
    "# 暗殺成功・失敗別のポリティ指標の分布は正規分布ではない\n",
    "scipy.stats.shapiro(data3.loc[data3[\"success\"] == 0, \"politybefore\"].dropna())\n",
    "scipy.stats.shapiro(data3.loc[data3[\"success\"] == 1, \"politybefore\"].dropna())\n",
    "\n",
    "# 狙われた指導者の年齢平均\n",
    "data3.groupby(by=\"success\").mean()[[\"age\"]]\n",
    "# 指導者の年齢分布\n",
    "ax = sns.distplot(data3.loc[data3[\"success\"] == 0, \"age\"].dropna(), label=\"暗殺失敗\")\n",
    "ax = sns.distplot(data3.loc[data3[\"success\"] == 1, \"age\"].dropna(), label=\"暗殺成功\")\n",
    "plt.legend()\n",
    "plt.show()\n",
    "# 年齢の分布が正規分布ではないとは言えない(＝正規分布っぽい)かどうか\n",
    "scipy.stats.shapiro(data3.loc[data3[\"success\"] == 0, \"age\"].dropna())\n",
    "scipy.stats.shapiro(data3.loc[data3[\"success\"] == 1, \"age\"].dropna())\n",
    "# 暗殺成功と失敗グループの指導者の年齢に違いがあるといえるか？\n",
    "scipy.stats.ttest_ind(data3.loc[data3[\"success\"] == 0, \"age\"].dropna(), data3.loc[data3[\"success\"] == 1, \"age\"].dropna())"
   ]
  },
  {
   "cell_type": "markdown",
   "metadata": {},
   "source": [
    "暗殺の成功・失敗別で集計をすると、ポリティ指標からみると、やや民主よりの国の方が暗殺は成功しているように見え、その差は1ポイントほど民主より、となっている。\n",
    "指導者の年齢でいうと、成功側は平均56歳、失敗側は平均53歳となっており、検定でも有意差ありとなっているので、高年齢であるほど暗殺は成功しやすいという因果はありそう。"
   ]
  },
  {
   "cell_type": "markdown",
   "metadata": {},
   "source": [
    "## 練習4\n",
    "- 国が争いの最中にあるかどうかが、暗殺の成功・失敗に影響しているのかどうかを見るために以下のフローで分析してみなはれ\n",
    "\t- 「warbefore」というカラムを追加し、暗殺の前3年間に内戦や国家間戦争の状態にあったかどうかを表す2値を入れる\n",
    "\t- warbefore が暗殺の成功・失敗に影響を与えていたかどうかを調べる"
   ]
  },
  {
   "cell_type": "code",
   "execution_count": null,
   "metadata": {},
   "outputs": [],
   "source": [
    "# 下調べ\n",
    "1 or 1\n",
    "1 or 0\n",
    "1 or None\n",
    "0 or 0\n",
    "0 or None\n",
    "None or None\n",
    "data3[\"civilwarbefore\"] | data3[\"interwarbefore\"]\n",
    "\n",
    "data3[\"civilwarbefore\"].isnull().any()\n",
    "data3[\"interwarbefore\"].isnull().any()\n",
    "\n",
    "# warbeforeカラム作成\n",
    "data3.loc[(data3[\"civilwarbefore\"] | data3[\"interwarbefore\"]) == 1, \"warbefore\"] = 1\n",
    "data3.loc[(data3[\"civilwarbefore\"] | data3[\"interwarbefore\"]) == 0, \"warbefore\"] = 0\n",
    "# 成功失敗別で、warbeforeカラム平均を見る\n",
    "data3.groupby(by=\"success\").mean()[[\"warbefore\"]]\n",
    "# 成功失敗別でクロス集計表\n",
    "pd.crosstab(data3[\"success\"], data3[\"warbefore\"], margins=True)\n",
    "pd.crosstab(data3[\"success\"], data3[\"warbefore\"], normalize=\"index\", margins=True)\n",
    "pd.crosstab(data3[\"success\"], data3[\"warbefore\"], normalize=\"columns\", margins=True)\n",
    "# χ二乗検定\n",
    "scipy.stats.chi2_contingency(pd.crosstab(data3[\"success\"], data3[\"warbefore\"]))\n",
    "# 有意差はない"
   ]
  },
  {
   "cell_type": "markdown",
   "metadata": {},
   "source": [
    "紛争のある無し別で、暗殺の成功・失敗に違いがあるかを見てみた。直近3年以内になんの争いもなかったグループの暗殺成功割合は22%、争いがあったグループの暗殺成功割合は21%で、ほぼ差がない。\n",
    "χ二乗検定でも有意差がなかったので、暗殺成功と争いがあるかどうかの相関はないと思われる。"
   ]
  },
  {
   "cell_type": "markdown",
   "metadata": {},
   "source": [
    "## 練習5\n",
    "指導者の暗殺成功は、民主化を誘引するのか？それとも戦争を誘引するのか？"
   ]
  },
  {
   "cell_type": "code",
   "execution_count": null,
   "metadata": {},
   "outputs": [],
   "source": [
    "# 民主化を誘引するのであれば、暗殺成功国家グループのポリティ指標の前後差分はプラスに偏り、失敗国家はゼロあたりになっている\n",
    "# 戦争(内戦、国家間)を誘引するのであれば、暗殺成功国家グループは warafter - warbefore が1側に偏り、失敗国家はゼロに偏る、と予想。\n",
    "\n",
    "# ポリティ指標の差分カラムを作る\n",
    "data3[\"polityDiff\"] = data3[\"polityafter\"] - data3[\"politybefore\"]\n",
    "\n",
    "# 暗殺成功・失敗別で、ポリティ指標差分の平均を見てみる\n",
    "data3.groupby(by=\"success\").mean()[[\"polityDiff\"]]\n",
    "# 成功国家のポリティ指標の平均は0くらい(＝統治体制に変化なし)\n",
    "# もともと民主国家だった場合は、暗殺成功したあとでも民主国家のままとなり、変化としては数字に現れないので、確認\n",
    "diff = data3.groupby(by=\"success\").mean()[[\"polityDiff\"]]\n",
    "# difference in difference\n",
    "diff.loc[1] - diff.loc[0]\n",
    "ax = sns.distplot(data3.loc[data3[\"success\"] == 1, \"politybefore\"].dropna(), label=\"暗殺成功\")\n",
    "ax = sns.distplot(data3.loc[data3[\"success\"] == 0, \"politybefore\"].dropna(), label=\"暗殺失敗\", ax=ax)\n",
    "plt.legend()\n",
    "plt.show()\n",
    "# 暗殺成功国家は、もともと民主国家であった国の方がやや多いので、そもそも民主国家に変化しようがない、とも考えられる。\n",
    "\n",
    "# 暗殺の成功失敗が、戦争(interwarafter, civilwarafter) によって違うか？\n",
    "data3[\"civilwarafter\"].isnull().any()\n",
    "data3[\"interwarafter\"].isnull().any()\n",
    "data3.loc[(data3[\"interwarafter\"] | data3[\"civilwarafter\"]) == 1, \"warafter\"] = 1\n",
    "data3.loc[(data3[\"interwarafter\"] | data3[\"civilwarafter\"]) == 0, \"warafter\"] = 0\n",
    "\n",
    "# warDiff を作成\n",
    "data3[\"warDiff\"] = data3[\"warafter\"] - data3[\"warbefore\"]\n",
    "\n",
    "diff = data3.groupby(by=\"success\").mean()[[\"warDiff\"]]\n",
    "# Difference in Difference\n",
    "diff.loc[1] - diff.loc[0]\n",
    "\n",
    "ax = sns.distplot(data3.loc[data3[\"success\"] == 1, \"warDiff\"].dropna(), label=\"暗殺成功\")\n",
    "ax = sns.distplot(data3.loc[data3[\"success\"] == 0, \"warDiff\"].dropna(), label=\"暗殺失敗\", ax = ax)\n",
    "plt.legend()\n",
    "plt.show()\n",
    "# クロス集計してみる\n",
    "pd.crosstab(data3[\"success\"], data3[\"warDiff\"], margins=True)\n",
    "pd.crosstab(data3[\"success\"], data3[\"warDiff\"], normalize=\"index\", margins=True)\n",
    "pd.crosstab(data3[\"success\"], data3[\"warDiff\"], normalize=\"columns\", margins=True)\n",
    "# 暗殺に成功してもしてなくても、争いが起きる割合に大きな差はないっぽい\n",
    "\n",
    "# χ二乗検定  p=0.4005321355380316, 有意差なし\n",
    "scipy.stats.chi2_contingency(pd.crosstab(data3[\"success\"], data3[\"warDiff\"]))"
   ]
  }
 ],
 "metadata": {
  "kernelspec": {
   "display_name": "Python 2",
   "language": "python",
   "name": "python2"
  },
  "language_info": {
   "codemirror_mode": {
    "name": "ipython",
    "version": 2
   },
   "file_extension": ".py",
   "mimetype": "text/x-python",
   "name": "python",
   "nbconvert_exporter": "python",
   "pygments_lexer": "ipython2",
   "version": "2.7.6"
  }
 },
 "nbformat": 4,
 "nbformat_minor": 0
}
