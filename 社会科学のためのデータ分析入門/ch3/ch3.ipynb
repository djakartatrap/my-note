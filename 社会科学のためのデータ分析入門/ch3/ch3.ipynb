{
 "cells": [
  {
   "cell_type": "markdown",
   "metadata": {},
   "source": [
    "## 3-1 戦時における民間人の被害を測定する"
   ]
  },
  {
   "cell_type": "code",
   "execution_count": null,
   "metadata": {},
   "outputs": [],
   "source": [
    "import pandas as pd\n",
    "import numpy as np\n",
    "import seaborn as sns\n",
    "sns.set(style=\"white\", color_codes=True)\n",
    "import matplotlib.pyplot as plt\n",
    "import matplotlib as mpl\n",
    "font = {\"family\":\"Ricty\"}\n",
    "mpl.rc('font', **font)\n",
    "\n",
    "afghan = pd.read_csv(\"officialSource/qss-master/MEASUREMENT/afghan.csv\")\n",
    "afghan.shape\n",
    "\n",
    "# 年齢について要約\n",
    "afghan.age.describe()\n",
    "sns.distplot(afghan.age)\n",
    "plt.title(\"年齢分布\")\n",
    "plt.show()\n",
    "\n",
    "# 教育を受けた年数\n",
    "afghan[\"educ.years\"].describe()\n",
    "sns.distplot(afghan[\"educ.years\"])\n",
    "plt.title(\"教育を受けた年数の分布\")\n",
    "plt.show()\n",
    "\n",
    "# 就業状況\n",
    "afghan.employed.describe()\n",
    "afghan.employed.value_counts()\n",
    "\n",
    "# 月収状況\n",
    "afghan.income.describe()\n",
    "afghan.income.value_counts(dropna=False)\n",
    "afghan.groupby(\"income\").count()\n",
    "\n",
    "# 攻撃を受けた状況を把握(ISAF, タリバン)\n",
    "pd.crosstab(afghan[\"violent.exp.ISAF\"], afghan[\"violent.exp.taliban\"])\n",
    "pd.crosstab(afghan[\"violent.exp.ISAF\"], afghan[\"violent.exp.taliban\"], normalize=True, margins=True)\n"
   ]
  },
  {
   "cell_type": "markdown",
   "metadata": {},
   "source": [
    "## 3-2 欠損データを扱う"
   ]
  },
  {
   "cell_type": "code",
   "execution_count": null,
   "metadata": {},
   "outputs": [],
   "source": [
    "# 月収の欠損レコード数\n",
    "afghan.income.isnull().sum()\n",
    "\n",
    "# 欠損割合\n",
    "afghan.income.isnull().mean()\n",
    "\n",
    "# NAをどう扱うか？は意識できるようになった方がよい\n",
    "pd.crosstab(afghan[\"violent.exp.ISAF\"], afghan[\"violent.exp.taliban\"], normalize=True, margins=True)\n",
    "pd.crosstab(afghan[\"violent.exp.ISAF\"].fillna(\"NA\").astype(\"str\"), afghan[\"violent.exp.taliban\"].fillna(\"NA\").astype(\"str\"), normalize=True, margins=True)\n"
   ]
  },
  {
   "cell_type": "markdown",
   "metadata": {},
   "source": [
    "- リストワイズ除去\n",
    "\t- 任意のレコードの中に、1カラムでもデータ欠損があった場合、当該レコード(1行)を除去してしまう手法。"
   ]
  },
  {
   "cell_type": "code",
   "execution_count": null,
   "metadata": {},
   "outputs": [],
   "source": [
    "# リストワイズ除去\n",
    "afghan[~afghan.isnull().any(axis=1)].shape\n",
    "\n",
    "# income 変数が欠損している場合にのみ除去\n",
    "afghan[~afghan.income.isnull()].shape"
   ]
  },
  {
   "cell_type": "markdown",
   "metadata": {},
   "source": [
    "### 3.3.1 棒グラフ"
   ]
  },
  {
   "cell_type": "code",
   "execution_count": null,
   "metadata": {},
   "outputs": [],
   "source": [
    "# ISAFの被害の割合の棒グラフ\n",
    "\n",
    "# 割合に変換\n",
    "temp = afghan[\"violent.exp.ISAF\"].value_counts(dropna=False) / afghan[\"violent.exp.ISAF\"].value_counts(dropna=False).sum()\n",
    "\n",
    "sns.barplot(x=[\"被害なし\", \"被害あり\", \"NA\"], y=temp, color=\"gray\")\n",
    "plt.title(\"ISFAによる民間人被害\")\n",
    "plt.ylabel(\"回答者の割合\")\n",
    "plt.ylim(0, 0.7)\n",
    "plt.show()"
   ]
  },
  {
   "cell_type": "code",
   "execution_count": null,
   "metadata": {},
   "outputs": [],
   "source": [
    "# タリバンの被害の割合の棒グラフ\n",
    "\n",
    "# 割合に変換\n",
    "temp = afghan[\"violent.exp.taliban\"].value_counts(dropna=False) / afghan[\"violent.exp.taliban\"].value_counts(dropna=False).sum()\n",
    "ax = sns.barplot(x=[\"被害なし\", \"被害あり\", \"NA\"], y=temp, color=\"gray\")\n",
    "ax.title.set_text(\"タリバンによる民間人被害\")\n",
    "\n",
    "plt.ylim(0, 0.7)\n",
    "plt.show()"
   ]
  },
  {
   "cell_type": "code",
   "execution_count": null,
   "metadata": {},
   "outputs": [],
   "source": []
  }
 ],
 "metadata": {
  "kernelspec": {
   "display_name": "Python 2",
   "language": "python",
   "name": "python2"
  },
  "language_info": {
   "codemirror_mode": {
    "name": "ipython",
    "version": 2
   },
   "file_extension": ".py",
   "mimetype": "text/x-python",
   "name": "python",
   "nbconvert_exporter": "python",
   "pygments_lexer": "ipython2",
   "version": "2.7.6"
  }
 },
 "nbformat": 4,
 "nbformat_minor": 0
}
