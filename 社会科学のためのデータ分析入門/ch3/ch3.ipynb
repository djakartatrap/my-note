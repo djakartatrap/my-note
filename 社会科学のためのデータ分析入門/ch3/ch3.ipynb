{
 "cells": [
  {
   "cell_type": "markdown",
   "metadata": {},
   "source": [
    "## 3-1 戦時における民間人の被害を測定する"
   ]
  },
  {
   "cell_type": "code",
   "execution_count": null,
   "metadata": {},
   "outputs": [],
   "source": [
    "import pandas as pd\n",
    "import numpy as np\n",
    "import seaborn as sns\n",
    "sns.set(style=\"white\", color_codes=True)\n",
    "import matplotlib.pyplot as plt\n",
    "import matplotlib as mpl\n",
    "font = {\"family\":\"Ricty\"}\n",
    "mpl.rc('font', **font)\n",
    "\n",
    "afghan = pd.read_csv(\"officialSource/qss-master/MEASUREMENT/afghan.csv\")\n",
    "afghan.shape\n",
    "\n",
    "# 年齢について要約\n",
    "afghan.age.describe()\n",
    "sns.distplot(afghan.age)\n",
    "plt.title(\"年齢分布\")\n",
    "plt.show()\n",
    "\n",
    "# 教育を受けた年数\n",
    "afghan[\"educ.years\"].describe()\n",
    "sns.distplot(afghan[\"educ.years\"])\n",
    "plt.title(\"教育を受けた年数の分布\")\n",
    "plt.show()\n",
    "\n",
    "# 就業状況\n",
    "afghan.employed.describe()\n",
    "afghan.employed.value_counts()\n",
    "\n",
    "# 月収状況\n",
    "afghan.income.describe()\n",
    "afghan.income.value_counts(dropna=False)\n",
    "afghan.groupby(\"income\").count()\n",
    "\n",
    "# 攻撃を受けた状況を把握(ISAF, タリバン)\n",
    "pd.crosstab(afghan[\"violent.exp.ISAF\"], afghan[\"violent.exp.taliban\"])\n",
    "pd.crosstab(afghan[\"violent.exp.ISAF\"], afghan[\"violent.exp.taliban\"], normalize=True, margins=True)\n"
   ]
  },
  {
   "cell_type": "markdown",
   "metadata": {},
   "source": [
    "## 3-2 欠損データを扱う"
   ]
  },
  {
   "cell_type": "code",
   "execution_count": null,
   "metadata": {},
   "outputs": [],
   "source": [
    "# 月収の欠損レコード数\n",
    "afghan.income.isnull().sum()\n",
    "\n",
    "# 欠損割合\n",
    "afghan.income.isnull().mean()\n",
    "\n",
    "# NAをどう扱うか？は意識できるようになった方がよい\n",
    "pd.crosstab(afghan[\"violent.exp.ISAF\"], afghan[\"violent.exp.taliban\"], normalize=True, margins=True)\n",
    "pd.crosstab(afghan[\"violent.exp.ISAF\"].fillna(\"NA\").astype(\"str\"), afghan[\"violent.exp.taliban\"].fillna(\"NA\").astype(\"str\"), normalize=True, margins=True)\n"
   ]
  },
  {
   "cell_type": "markdown",
   "metadata": {},
   "source": [
    "- リストワイズ除去\n",
    "\t- 任意のレコードの中に、1カラムでもデータ欠損があった場合、当該レコード(1行)を除去してしまう手法。"
   ]
  },
  {
   "cell_type": "code",
   "execution_count": null,
   "metadata": {},
   "outputs": [],
   "source": [
    "# リストワイズ除去\n",
    "afghan[~afghan.isnull().any(axis=1)].shape\n",
    "\n",
    "# income 変数が欠損している場合にのみ除去\n",
    "afghan[~afghan.income.isnull()].shape"
   ]
  },
  {
   "cell_type": "markdown",
   "metadata": {},
   "source": [
    "### 3.3.1 棒グラフ"
   ]
  },
  {
   "cell_type": "code",
   "execution_count": null,
   "metadata": {},
   "outputs": [],
   "source": [
    "# ISAFの被害の割合の棒グラフ\n",
    "\n",
    "# 割合に変換\n",
    "temp = afghan[\"violent.exp.ISAF\"].value_counts(dropna=False) / afghan[\"violent.exp.ISAF\"].value_counts(dropna=False).sum()\n",
    "\n",
    "sns.barplot(x=[\"被害なし\", \"被害あり\", \"NA\"], y=temp, color=\"gray\")\n",
    "plt.title(\"ISFAによる民間人被害\")\n",
    "plt.ylabel(\"回答者の割合\")\n",
    "plt.ylim(0, 0.7)\n",
    "plt.show()"
   ]
  },
  {
   "cell_type": "code",
   "execution_count": null,
   "metadata": {},
   "outputs": [],
   "source": [
    "# タリバンの被害の割合の棒グラフ\n",
    "\n",
    "# 割合に変換\n",
    "temp = afghan[\"violent.exp.taliban\"].value_counts(dropna=False) / afghan[\"violent.exp.taliban\"].value_counts(dropna=False).sum()\n",
    "ax = sns.barplot(x=[\"被害なし\", \"被害あり\", \"NA\"], y=temp, color=\"gray\")\n",
    "ax.title.set_text(\"タリバンによる民間人被害\")\n",
    "plt.ylim(0, 0.7)\n",
    "plt.show()"
   ]
  },
  {
   "cell_type": "markdown",
   "metadata": {},
   "source": [
    "### 3.3.2 ヒストグラム"
   ]
  },
  {
   "cell_type": "code",
   "execution_count": null,
   "metadata": {},
   "outputs": [],
   "source": [
    "# 年齢のヒストグラムを描く\n",
    "# Rのヒストグラムと同じビニングにするために、ちょっと小細工してる\n",
    "ax = sns.distplot(afghan.age, norm_hist=True, bins=[x if x==15 else x+1 for x in range(15, 90, 5)])\n",
    "ax.title.set_text(\"回答者の年齢分布\")\n",
    "ax.xaxis.label.set_text(\"年齢\")\n",
    "ax.set_ylim(0, 0.04)\n",
    "ax.figure.show()"
   ]
  },
  {
   "cell_type": "code",
   "execution_count": null,
   "metadata": {},
   "outputs": [],
   "source": [
    "# 教育年数ヒストグラム\n",
    "ax = sns.distplot(afghan[\"educ.years\"], bins=range(afghan[\"educ.years\"].min(), afghan[\"educ.years\"].max() + 1, 1), norm_hist=True)\n",
    "ax.title.set_text(\"回答者の教育程度分布\")\n",
    "ax.yaxis.label.set_text(\"密度\")\n",
    "ax.xaxis.label.set_text(\"教育を受けた年数\")\n",
    "# 垂直線を書く時は vlines。水平線の時は hlines\n",
    "ax.vlines(afghan[\"educ.years\"].median(), 0, 1)\n",
    "# テキストを置きたい時の書き方\n",
    "ax.text(afghan[\"educ.years\"].median(), 0.5, \"中央値\", backgroundcolor=\"white\",ha='left', va='top', weight='bold', color='black')\n",
    "ax.figure.show()\n",
    "\n",
    "afghan[\"educ.years\"].median()"
   ]
  },
  {
   "cell_type": "markdown",
   "metadata": {},
   "source": [
    "### 3.3.3 箱ひげ図"
   ]
  },
  {
   "cell_type": "code",
   "execution_count": null,
   "metadata": {},
   "outputs": [],
   "source": [
    "# 一つだけ boxplot\n",
    "ax = sns.boxplot(afghan.age, orient=\"v\", color=\"white\")\n",
    "ax.title.set_text(\"年齢の分布\")\n",
    "ax.yaxis.label.set_text(\"年齢\")\n",
    "ax.figure.show()"
   ]
  },
  {
   "cell_type": "code",
   "execution_count": null,
   "metadata": {},
   "outputs": [],
   "source": [
    "# 複数のboxplot\n",
    "\n",
    "ax = sns.boxplot(data=afghan, x=\"province\", y=\"educ.years\", color=\"white\")\n",
    "ax.title.set_text(\"州別の教育程度\")\n",
    "ax.yaxis.label.set_text(\"教育を受けた年数\")\n",
    "ax.figure.show()"
   ]
  },
  {
   "cell_type": "code",
   "execution_count": null,
   "metadata": {},
   "outputs": [],
   "source": [
    "# 州別の攻撃受けた度合いの平均\n",
    "# pandasの平均は、デフォルトでdropnaしてる.(というか、nullとゼロを区別するのがデフォ)\n",
    "afghan.groupby(by=\"province\").mean()[[\"violent.exp.taliban\", \"violent.exp.ISAF\"]]"
   ]
  },
  {
   "cell_type": "code",
   "execution_count": null,
   "metadata": {},
   "outputs": [],
   "source": [
    "# プロットを画像として保存する\n",
    "ax.figure.savefig(\"ch3/educ.png\")"
   ]
  },
  {
   "cell_type": "markdown",
   "metadata": {},
   "source": [
    "### 3.4.1 ランダム化の役割"
   ]
  },
  {
   "cell_type": "code",
   "execution_count": null,
   "metadata": {},
   "outputs": [],
   "source": [
    "# アフガニスタンのデータがどの程度母集団を代表しているのかを検討してみる\n",
    "afghan_village = pd.read_csv(\"officialSource/qss-master/MEASUREMENT/afghan-village.csv\")\n",
    "import matplotlib.ticker as ticker\n",
    "\n",
    "# 01フラグに名前をつける\n",
    "afghan_village.loc[afghan_village[\"village.surveyed\"] == 0, \"village.surveyed.jp\"] = \"非抽出\" \n",
    "afghan_village.loc[afghan_village[\"village.surveyed\"] == 1, \"village.surveyed.jp\"] = \"抽出\" \n",
    "\n",
    "# 村の標高の面で、抽出された村が母集団を代表しているかどうか(おなじ分布になっているか？)を見てみる\n",
    "ax = sns.boxplot(y=\"altitude\", x=\"village.surveyed.jp\", data=afghan_village, color=\"white\")\n",
    "ax.yaxis.label.set_text(\"標高(メートル)\")\n",
    "ax.xaxis.label.set_text(\"\")\n",
    "# ｙ軸のtickを3桁カンマ区切りにする\n",
    "ax.yaxis.set_major_formatter(ticker.StrMethodFormatter('{x:,.0f}'))\n",
    "ax.figure.show()\n",
    "\n",
    "# 人口の面で、抽出された村が母集団を代表しているかどうか(おなじ分布になっているか？)を見てみる\n",
    "ax = sns.boxplot(y=\"population\", x=\"village.surveyed.jp\", data=afghan_village, color=\"white\")\n",
    "ax.figure.show()\n",
    "\n",
    "import math\n",
    "# 分布が潰れてよくわからないので、人口を対数化する\n",
    "ax = sns.boxplot(x=afghan_village[\"village.surveyed.jp\"], y=afghan_village[\"population\"].apply(math.log), color=\"white\")\n",
    "ax.yaxis.label.set_text(\"対数人口\")\n",
    "ax.xaxis.label.set_text(\"\")\n",
    "ax.figure.show()\n",
    "\n",
    "# 抽出、非抽出の分布がほとんど一緒なので、ちゃんと代表できてると言えそう。"
   ]
  },
  {
   "cell_type": "markdown",
   "metadata": {},
   "source": [
    "## 3.6 2変量関係の要約"
   ]
  },
  {
   "cell_type": "code",
   "execution_count": null,
   "metadata": {},
   "outputs": [],
   "source": [
    "congress = pd.read_csv(\"officialSource/qss-master/MEASUREMENT/congress.csv\")\n",
    "congress.loc[congress.party==\"Democrat\", \"party_jp\"] = \"民主党\"\n",
    "congress.loc[congress.party==\"Republican\", \"party_jp\"] = \"共和党\"\n",
    "\n",
    "fig = plt.figure(figsize=(16,6))\n",
    "fig.subplots(nrows=1, ncols=2)\n",
    "\n",
    "# 80議会の議員たちの理想点を空間投票モデルへプロット\n",
    "ax = sns.scatterplot(ax=fig.get_axes()[0], x=\"dwnom1\", y=\"dwnom2\", hue=\"party_jp\", style=\"party_jp\", data=congress[congress[\"congress\"]==80])\n",
    "ax.set_ylim(-1.5, 1.5)\n",
    "ax.set_xlim(-1.5, 1.5)\n",
    "ax.xaxis.label.set_text(\"経済的リベラル/保守\")\n",
    "ax.yaxis.label.set_text(\"人種的リベラル/保守\")\n",
    "ax.title.set_text(\"第80会議\")\n",
    "ax.figure.show()\n",
    "# 112議会の議員たちの理想点を空間投票モデルへプロット\n",
    "ax2 = sns.scatterplot(ax=fig.get_axes()[1], x=\"dwnom1\", y=\"dwnom2\", hue=\"party_jp\", style=\"party_jp\", data=congress[congress[\"congress\"]==112])\n",
    "ax2.set_ylim(-1.5, 1.5)\n",
    "ax2.set_xlim(-1.5, 1.5)\n",
    "ax2.xaxis.label.set_text(\"経済的リベラル/保守\")\n",
    "ax2.yaxis.label.set_text(\"人種的リベラル/保守\")\n",
    "ax2.title.set_text(\"第112会議\")\n",
    "ax2.figure.show()\n"
   ]
  },
  {
   "cell_type": "markdown",
   "metadata": {},
   "source": [
    "## 各議会ごとの経済的リベラル・保守の時系列プロット"
   ]
  },
  {
   "cell_type": "code",
   "execution_count": null,
   "metadata": {},
   "outputs": [],
   "source": [
    "dem_medians = congress[congress[\"party\"]!=\"Other\"].groupby(by=[\"congress\", \"party\"], as_index=False).median()\n",
    "ax = sns.lineplot(x=\"congress\", y=\"dwnom1\", hue=\"party\", data=dem_medians)\n",
    "ax.set_xlim(78, 117)\n",
    "ax.set_ylim(-1.0, 1.0)\n",
    "ax.yaxis.label.set_text(\"DW-NOMINATEスコア(第1次元)\")\n",
    "ax.xaxis.label.set_text(\"議会会期\")\n",
    "ax.figure.show()"
   ]
  },
  {
   "cell_type": "markdown",
   "metadata": {},
   "source": [
    "## 政治的分極化と所得の不平等の関係をプロットで見る"
   ]
  },
  {
   "cell_type": "code",
   "execution_count": null,
   "metadata": {},
   "outputs": [],
   "source": [
    "gini = pd.read_csv(\"officialSource/qss-master/MEASUREMENT/USGini.csv\")\n",
    "temp = dem_medians.pivot(index=\"congress\", columns=\"party\", values=\"dwnom1\")\n",
    "temp = temp.reset_index()\n",
    "# 年カラムを作成\n",
    "temp[\"year\"] = [i/10 for i in range(19475, 20135, 20)]\n",
    "temp[\"diff\"] = temp.Republican - temp.Democrat\n",
    "fig = plt.figure(figsize=(16, 6))\n",
    "fig.subplots(nrows=1, ncols=2)\n",
    "ax = sns.scatterplot(ax=fig.get_axes()[0], x=\"year\", y=\"diff\", data=temp, color=\"gray\")\n",
    "ax.xaxis.label.set_text(\"年\")\n",
    "ax.yaxis.label.set_text(\"共和党中央値ー民主党中央値\")\n",
    "ax.set_title(\"政治的分極\")\n",
    "ax2 = sns.scatterplot(ax=fig.get_axes()[1], x=\"year\", y=\"gini\", data=gini, color=\"gray\")\n",
    "ax2.xaxis.label.set_text(\"年\")\n",
    "ax2.yaxis.label.set_text(\"ジニ係数\")\n",
    "ax2.set_title(\"所得の不平等\")\n",
    "fig.show()"
   ]
  },
  {
   "cell_type": "code",
   "execution_count": null,
   "metadata": {},
   "outputs": [],
   "source": [
    "# 相関係数を出す 手法その1\n",
    "# pandas の相関係数は、メソッドが選べて、各列総当たり戦をしてくれる。\n",
    "# Null除去もリストワイズ的ではなく、ちゃんと使う列でNullがあった時のみ、除去としてくれている。\n",
    "temp.loc[:, \"gini\"] = gini.loc[[i for i in range(1, gini.shape[0], 2)], \"gini\"].reset_index()\n",
    "temp[[\"diff\", \"gini\"]].corr()\n",
    "\n",
    "# 相関係数を出す 手法その2 scipy で出すと帰無仮説(無相関)のp値も出してくれる\n",
    "import scipy.stats\n",
    "scipy.stats.pearsonr(temp[\"diff\"], gini.loc[[i for i in range(1, gini.shape[0], 2)], \"gini\"])\n",
    "# 相関係数が0.9418128... 、p値がすっごい小さいので、相関してると逝ってよし\n",
    "\n"
   ]
  },
  {
   "cell_type": "code",
   "execution_count": null,
   "metadata": {},
   "outputs": [],
   "source": [
    "import probscale\n",
    "# from scipy import stats\n",
    "\n",
    "# PythonでQQプロットプロットを正確に書く方法がわからんかったので、この形で書いておく・・・\n",
    "position, values = probscale.plot_pos(congress[(congress['congress']==112) & (congress['party']=='Democrat')][\"dwnom2\"])\n",
    "position2, values2 = probscale.plot_pos(congress[(congress['congress']==112) & (congress['party']=='Republican')][\"dwnom2\"])\n",
    "\n",
    "temp1 = pd.DataFrame({\"x\": position , \"y\": values, \"hue\":[\"Democrat\" for i in range(1,len(values)+1)]})\n",
    "temp2 = pd.DataFrame({\"x\": position2 , \"y\": values2, \"hue\":[\"Republican\" for i in range(1,len(values2)+1)]})\n",
    "temp = temp1.append(temp2).reset_index(drop=True)\n",
    "\n",
    "fig = plt.figure(figsize=(8, 6))\n",
    "ax = fig.subplots()\n",
    "sns.scatterplot(ax = ax, x=\"x\", y='y', hue='hue', data=temp)\n",
    "fig.show()\n"
   ]
  },
  {
   "cell_type": "markdown",
   "metadata": {},
   "source": [
    "## 3.7 クラスター化"
   ]
  },
  {
   "cell_type": "code",
   "execution_count": null,
   "metadata": {},
   "outputs": [],
   "source": [
    "from sklearn.cluster import KMeans\n",
    "\n",
    "# 2つのクラスターに分けてみる\n",
    "# クラスターわけに利用する指標dwnom1とdwnom2は、中心点0、スケーリングも一致している指標なのでそのまま\n",
    "# 利用しているが、そもそも単位が違ったり、スケーリングが違う指標を使ってクラスタわけする場合は\n",
    "# それぞれの指標を z得点化(標準化)する必要がある事を忘れてはいけない！\n",
    "k80two_out = KMeans(n_clusters=2).fit(congress[congress[\"congress\"]==80][[\"dwnom1\", \"dwnom2\"]])\n",
    "k80two_out.cluster_centers_\n",
    "k80two_out.n_iter_\n",
    "k80two_out.labels_\n",
    "k112two_out = KMeans(n_clusters=2).fit(congress[congress[\"congress\"]==112][[\"dwnom1\", \"dwnom2\"]])\n",
    "k112two_out.cluster_centers_\n",
    "k112two_out.labels_\n",
    "\n",
    "# 各クラスターに含まれる政党ごとの観察数\n",
    "pd.crosstab(congress[congress[\"congress\"]==80][\"party\"], k80two_out.labels_)\n",
    "pd.crosstab(congress[congress[\"congress\"]==112][\"party\"], k112two_out.labels_)\n",
    "# 第80議会は、各政党が混ざったグループがつくられたが、112議会では、グループ＝政党となり、前章で見た分極化が進んでいる事実と一致している\n",
    "\n",
    "\n",
    "# 4つのグループに分けてみる\n",
    "k80four_out = KMeans(n_clusters=4).fit(congress[congress[\"congress\"]==80][[\"dwnom1\", \"dwnom2\"]])\n",
    "k112four_out = KMeans(n_clusters=4).fit(congress[congress[\"congress\"]==112][[\"dwnom1\", \"dwnom2\"]])\n",
    "# 結果をビジュアライズする\n",
    "congress.loc[congress[\"congress\"]==80, \"cluster\"] = k80four_out.labels_\n",
    "congress.loc[congress[\"congress\"]==112, \"cluster\"] = k112four_out.labels_\n",
    "# hueに設定したいので、文字列に変換. seaborn は hueに指定するのは文字型の数字でもエラーになるので注意\n",
    "congress[\"cluster\"] = \"group_\" + congress.cluster.apply(str)\n",
    "fig = plt.figure(figsize=(16, 6))\n",
    "ax1, ax2 = fig.subplots(1, 2)\n",
    "\n",
    "ax1 = sns.scatterplot(ax=ax1, data=congress[congress[\"congress\"]==80], x=\"dwnom1\", y=\"dwnom2\", hue=\"cluster\", style=\"party_jp\")\n",
    "ax1.xaxis.label.set_text(\"経済的リベラル/保守\")\n",
    "ax1.yaxis.label.set_text(\"人種的リベラル/保守\")\n",
    "ax1.set_xlim(-1.6, 1.6)\n",
    "ax1.set_ylim(-1.6, 1.6)\n",
    "ax1.title.set_text(\"第80会議\")\n",
    "ax1 = sns.scatterplot(ax=ax1, data=pd.DataFrame(k80four_out.cluster_centers_, columns=[\"x\", \"y\"]), x=\"x\", y=\"y\", marker=\"*\", s=200, color=\"gray\")\n",
    "\n",
    "ax2 = sns.scatterplot(ax=ax2, data=congress[congress[\"congress\"]==112], x=\"dwnom1\", y=\"dwnom2\", hue=\"cluster\", style=\"party_jp\")\n",
    "ax2.xaxis.label.set_text(\"経済的リベラル/保守\")\n",
    "ax2.yaxis.label.set_text(\"人種的リベラル/保守\")\n",
    "ax2.set_xlim(-1.6, 1.6)\n",
    "ax2.set_ylim(-1.6, 1.6)\n",
    "ax2.title.set_text(\"第112会議\")\n",
    "ax2 = sns.scatterplot(ax=ax2, data=pd.DataFrame(k112four_out.cluster_centers_, columns=[\"x\", \"y\"]), x=\"x\", y=\"y\", marker=\"*\", s=200, color=\"gray\")\n",
    "fig.show()"
   ]
  },
  {
   "cell_type": "markdown",
   "metadata": {},
   "source": [
    "## 可視化されたグラフから読み取れる事\n",
    "- 各政党とも、2つのグループに分けられている\n",
    "- 中心点の傾きが、ほぼほぼ垂直 ＝ 各政党内でのグルーピングの違いは「人種的リベラル・保守の違いで決まって」おり、経済的な方針はほぼほぼ政党内で一致している\n",
    "- 80議会の民主党は、やや政党内分裂が顕著だった\n"
   ]
  },
  {
   "cell_type": "code",
   "execution_count": null,
   "metadata": {},
   "outputs": [],
   "source": []
  }
 ],
 "metadata": {
  "kernelspec": {
   "display_name": "Python 2",
   "language": "python",
   "name": "python2"
  },
  "language_info": {
   "codemirror_mode": {
    "name": "ipython",
    "version": 2
   },
   "file_extension": ".py",
   "mimetype": "text/x-python",
   "name": "python",
   "nbconvert_exporter": "python",
   "pygments_lexer": "ipython2",
   "version": "2.7.6"
  }
 },
 "nbformat": 4,
 "nbformat_minor": 0
}
