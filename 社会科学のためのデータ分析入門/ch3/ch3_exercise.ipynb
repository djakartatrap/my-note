{
 "cells": [
  {
   "cell_type": "markdown",
   "metadata": {
    "collapsed": true
   },
   "source": [
    "# 3.9.1 同性婚に関する意見の変化再考"
   ]
  },
  {
   "cell_type": "markdown",
   "metadata": {},
   "source": [
    "## 問題1\n",
    "- 研究1のコントロールグループについて、第1波と第2波の感情温度の相関をみてみなはれ\n",
    "    - 欠損のない観察のみを用いてやってね\n",
    "- 結果について簡潔に実質的な解釈を述べなはれ"
   ]
  },
  {
   "cell_type": "code",
   "execution_count": null,
   "metadata": {},
   "outputs": [],
   "source": [
    "import pandas as pd\n",
    "import numpy as np\n",
    "import seaborn as sns\n",
    "sns.set(style=\"white\", color_codes=True)\n",
    "import matplotlib.pyplot as plt\n",
    "import matplotlib as mpl\n",
    "font = {\"family\":\"Ricty\"}\n",
    "mpl.rc('font', **font)\n",
    "\n",
    "# 研究1のコントロールグループについて、第1波と第2波の感情温度の相関をみてみなはれ\n",
    "# 欠損のない観察のみを用いてやってね\n",
    "import scipy.stats\n",
    "gayreshaped = pd.read_csv(\"officialSource/qss-master/MEASUREMENT/gayreshaped.csv\")\n",
    "study1 = gayreshaped[gayreshaped[\"study\"]==1]\n",
    "study1_noNull = study1[(~study1[[\"therm1\", \"therm2\"]].isnull().any(axis=1)) & (study1[\"treatment\"]==\"No Contact\")]\n",
    "# 相関係数出してみる\n",
    "scipy.stats.pearsonr(study1_noNull[\"therm1\"], study1_noNull[\"therm2\"])\n",
    "# ちなみに、NaNがある状態で相関係数だそうとしても、scipy.stats.pearsonrだとnanになる\n",
    "scipy.stats.pearsonr(study1[\"therm1\"], study1[\"therm2\"])"
   ]
  },
  {
   "cell_type": "markdown",
   "metadata": {},
   "source": [
    "相関係数＝0.9975816546030554, p値＝0.0と、相関しているというかほぼ同一なのでは？という疑惑。"
   ]
  },
  {
   "cell_type": "markdown",
   "metadata": {},
   "source": []
  },
  {
   "cell_type": "code",
   "execution_count": null,
   "metadata": {},
   "outputs": [],
   "source": [
    "study2 = gayreshaped[gayreshaped[\"study\"]==2]\n",
    "study2_controll = study2[study2[\"treatment\"]==\"No Contact\"]\n",
    "study2_controll.corr()"
   ]
  },
  {
   "cell_type": "markdown",
   "metadata": {},
   "source": [
    "問題1と同様、いずれの波でも高い相関係数となっている。"
   ]
  },
  {
   "cell_type": "markdown",
   "metadata": {},
   "source": [
    "## 問題3\n",
    "- 外れ値の確認、および、第1波とそれぞれの波の変化の様子がわかる散布図を描いてみなはれ"
   ]
  },
  {
   "cell_type": "code",
   "execution_count": null,
   "metadata": {},
   "outputs": [],
   "source": [
    "# 2×2に sns.jointplotを並べようとしたけど、うまく描画できなかったので諦める\n",
    "# fig = plt.figure(figsize=(16,12))\n",
    "# あ、こういう書き方できるんだ！！\n",
    "# [[ax1, ax2], [ax3, ax4]] = fig.subplots(nrows=2, ncols=2)\n",
    "\n",
    "# jointplotで戻ってくるのは、JointGridオブジェクトが返ってくる。\n",
    "# xxxGrid 系は、seaborn内部で複数のaxesをFigureオブジェクト内に配置してくれるやつで、\n",
    "# JointGridも、X軸とY軸の上に出ている分布図も、そういう大きさのaxesを配置してくれている。\n",
    "# なので、JointGrid全体のタイトルをつける場合、全体のタイトルに見えやすい位置に配置されるタイトルとして\n",
    "# jointgrid.ax_marg_x のタイトルに名前を付ける\n",
    "jointgrid = sns.jointplot(data=study2_controll, x=\"therm1\", y=\"therm2\", kind=\"reg\")\n",
    "jointgrid.ax_joint.axes.title.set_text(\"\")\n",
    "jointgrid.ax_marg_x.title.set_text(\"第1波と第2波の分布比較\")\n",
    "jointgrid.fig.show()\n",
    "\n",
    "jointgrid2 = sns.jointplot(data=study2_controll, x=\"therm1\", y=\"therm3\", kind=\"reg\")\n",
    "jointgrid2.ax_marg_x.title.set_text(\"第1波と第3波の分布比較\")\n",
    "jointgrid2.fig.show()\n",
    "\n",
    "jointgrid3 = sns.jointplot(data=study2_controll, x=\"therm1\", y=\"therm4\", kind=\"reg\")\n",
    "jointgrid3.ax_marg_x.title.set_text(\"第1波と第4波の分布比較\")\n",
    "jointgrid3.fig.show()"
   ]
  },
  {
   "cell_type": "markdown",
   "metadata": {},
   "source": [
    "## 問題4\n",
    "- CCAPのデータセットと酷似している事を見出した研究者3人の足跡を追ってみよう\n",
    "    - 2012年CCAPの感情温度、研究1第1波の感情温度、研究2の第1波の感情温度のヒストグラムを見てみる\n",
    "    - CCAPには多くの欠損値が含まれている。同性婚研究において、欠損データがどのように記録されたか検討しよう"
   ]
  },
  {
   "cell_type": "code",
   "execution_count": null,
   "metadata": {},
   "outputs": [],
   "source": [
    "ccap2012 = pd.read_csv(\"officialSource/qss-master/MEASUREMENT/ccap2012.csv\")\n",
    "figure = plt.figure(figsize=(24,6))\n",
    "ax1, ax2, ax3 = figure.subplots(nrows=1, ncols=3)\n",
    "# 研究1第1波のヒストグラム\n",
    "ax1 = sns.distplot(study1[\"therm1\"], ax=ax1, bins=20, norm_hist=True)\n",
    "ax1.set_ylim(0, 0.07)\n",
    "ax2 = sns.distplot(study2[\"therm1\"], ax=ax2, bins=20, norm_hist=True)\n",
    "ax2.set_ylim(0, 0.07)\n",
    "ax3 = sns.distplot(ccap2012[~ccap2012[\"gaytherm\"].isnull()][\"gaytherm\"], ax=ax3, bins=20, norm_hist=True)\n",
    "ax3.set_ylim(0, 0.07)\n",
    "figure.show()\n",
    "\n",
    "# CCAPのデータ分布と、今回のデータ、真ん中の分布が多いだけで、後はほとんど一緒だな・・・\n",
    "# ど真ん中、つまりtherm値が50の人を、CCAPのデータから水増ししてんじゃね・・疑惑\n",
    "\n",
    "# therm値50の人の割合を見てみると、そこだけで2割弱。飛び抜けて多いのは怪しい・・・\n",
    "(study1[\"therm1\"]==50).mean()\n",
    "(study2[\"therm1\"]==50).mean()\n",
    "\n",
    "# CCAP の欠損データを、50で埋めたら似た分布になったりしてね\n",
    "ccap2012_fillna_with50 = ccap2012.copy(deep=True)\n",
    "ccap2012_fillna_with50.loc[ccap2012[\"gaytherm\"].isnull(), \"gaytherm\"] = 50\n",
    "ax4 = sns.distplot(ccap2012_fillna_with50[\"gaytherm\"], bins=20, norm_hist=True)\n",
    "ax4.figure.show()\n",
    "# はいそっくりになったーーーー。\n",
    "# なので、CCAPの欠損データをすべて50で埋めて作られていると思われる"
   ]
  },
  {
   "cell_type": "markdown",
   "metadata": {},
   "source": [
    "## 問題5\n",
    "- 問題4で扱ったデータを、QQプロット(的なん)で可視化してみなはれ。多分キレイに一致してるから。"
   ]
  },
  {
   "cell_type": "code",
   "execution_count": null,
   "metadata": {},
   "outputs": [],
   "source": [
    "# 累積分布を、ｘ軸をポジション化(分位値化)してやるやーつ\n",
    "import probscale\n",
    "position1, values1 = probscale.plot_pos(study1[\"therm1\"])\n",
    "position2, values2 = probscale.plot_pos(study2[\"therm1\"])\n",
    "position3, values3 = probscale.plot_pos(ccap2012_fillna_with50[\"gaytherm\"])\n",
    "\n",
    "temp1 = pd.DataFrame({\"x\":position1, \"y\":values1, \"hue\":[\"study1\" for i in range(1, len(position1) + 1)]})\n",
    "temp2 = pd.DataFrame({\"x\":position2, \"y\":values2, \"hue\":[\"study2\" for i in range(1, len(position2) + 1)]})\n",
    "temp3 = pd.DataFrame({\"x\":position3, \"y\":values3, \"hue\":[\"ccap\" for i in range(1, len(position3) + 1)]})\n",
    "\n",
    "ax = sns.scatterplot(x=\"x\", y=\"y\", style=\"hue\", hue=\"hue\", data=temp1.append(temp3).reset_index(drop=True))\n",
    "ax.figure.show()\n",
    "\n",
    "ax = sns.scatterplot(x=\"x\", y=\"y\", hue=\"hue\", data=temp2.append(temp3).reset_index(drop=True))\n",
    "ax.figure.show()\n",
    "\n",
    "# ほとんど丸かぶりで、データ生成法としての仮説は正しいだろう。"
   ]
  },
  {
   "cell_type": "markdown",
   "metadata": {},
   "source": [
    "# 3.9.2 中国とメキシコにおける政治的有効性感覚"
   ]
  },
  {
   "cell_type": "markdown",
   "metadata": {},
   "source": [
    "## 問題1\n",
    "- 中国とメキシコの自己評価回答の分布を別々に棒グラフにせよ\n",
    "    - 縦軸には回答者の割合\n",
    "- それぞれお国の回答の平均を計算しまひょ\n",
    "_ 上記結果から、どちらの国のほうが世辞的有効性感覚が高いといえるか？\n",
    "    - メキシコは、70年以上統治してきた制度的革命党を2000年の選挙で政権から追い出し、他方中国は現在まで公正な選挙が行われたことはない。\n",
    "    - この事実は、分析結果と合致するか？"
   ]
  },
  {
   "cell_type": "code",
   "execution_count": null,
   "metadata": {},
   "outputs": [],
   "source": [
    "vignettes = pd.read_csv(\"officialSource/qss-master/MEASUREMENT/vignettes.csv\")\n",
    "myfig = plt.figure(figsize=(16,6))\n",
    "ax1, ax2 = myfig.subplots(nrows=1, ncols=2)\n",
    "ax1 = sns.distplot(vignettes[vignettes[\"china\"]==0][\"self\"], kde=False, ax=ax1, bins=[0,1,2,3,4,5,6], norm_hist=True)\n",
    "ax2 = sns.distplot(vignettes[vignettes[\"china\"]==1][\"self\"], kde=False, ax=ax2, bins=[0,1,2,3,4,5,6], norm_hist=True)\n",
    "ax1.set_ylim(0, 0.6)\n",
    "ax2.set_ylim(0, 0.6)\n",
    "ax1.title.set_text(\"メキシコの自己評価分布\")\n",
    "ax2.title.set_text(\"中国の自己評価分布\")\n",
    "myfig.show()\n",
    "\n",
    "# それぞれの平均値\n",
    "# メキシコ\n",
    "vignettes[vignettes[\"china\"]==0][\"self\"].mean()\n",
    "# 中国\n",
    "vignettes[vignettes[\"china\"]==1][\"self\"].mean()\n"
   ]
  },
  {
   "cell_type": "markdown",
   "metadata": {},
   "source": [
    "分布的にはメキシコの方が政治的有効性の自己評価は低い側に偏っており、中国は比較的平ら。\n",
    "平均値も、メキシコが 1.8253、中国が 2.6219 と中国の方が高い。\n",
    "政治的背景を考えると、メキシコの方が高いと予想していたが、予想とは違う結果となっている。"
   ]
  },
  {
   "cell_type": "markdown",
   "metadata": {},
   "source": [
    "## 問題2\n",
    "両国の政治的有効性感覚の程度の違いが、年齢分布に起因するかどうかを検討する。\n",
    "- メキシコと中国の回答者の年齢ヒストグラムを作成しましょ\n",
    "    - 回答者の年齢の中央値を示す縦線を描いておきましょ\n",
    "- 2国間の年齢分布比較するためにQQプロット描いてみましょ\n",
    "- それぞれのグラフを解釈しながら、考察してみな"
   ]
  },
  {
   "cell_type": "code",
   "execution_count": null,
   "metadata": {},
   "outputs": [],
   "source": [
    "# 各国の年齢分布を描いてみる\n",
    "figure = plt.figure(figsize=(16, 6))\n",
    "ax1, ax2 = figure.subplots(nrows=1, ncols=2)\n",
    "sns.distplot(vignettes[vignettes[\"china\"]==0][\"age\"], \n",
    "             ax=ax1, kde=False, norm_hist=True,\n",
    "             bins=[0,10,20,30,40,50,60,70,80,90,100]\n",
    "             )\n",
    "sns.distplot(vignettes[vignettes[\"china\"]==1][\"age\"],\n",
    "             ax=ax2, kde=False, norm_hist=True,\n",
    "             bins=[0,10,20,30,40,50,60,70,80,90,100]\n",
    "             )\n",
    "ax1.title.set_text(\"メキシコの年齢分布\")\n",
    "ax2.title.set_text(\"中国の年齢分布\")\n",
    "ax1.set_ylim(0,0.05)\n",
    "ax2.set_ylim(0,0.05)\n",
    "# 中央値の垂直線を追加\n",
    "ax1.axvline(x=vignettes[vignettes[\"china\"]==0][\"age\"].median())\n",
    "ax1.text(x=vignettes[vignettes[\"china\"]==0][\"age\"].median(), y=0.03, s=\"中央値\", ha=\"left\", va=\"center\")\n",
    "ax2.axvline(x=vignettes[vignettes[\"china\"]==1][\"age\"].median())\n",
    "ax2.text(x=vignettes[vignettes[\"china\"]==1][\"age\"].median(), y=0.03, s=\"中央値\", ha=\"left\", va=\"center\")\n",
    "figure.show()\n",
    "# ちなみに中央値は・・メキシコが35歳、中国が45歳\n",
    "vignettes[vignettes[\"china\"]==0][\"age\"].median()\n",
    "vignettes[vignettes[\"china\"]==1][\"age\"].median()\n",
    "\n",
    "# QQプロット的なものを描く\n",
    "import probscale\n",
    "mexico_pos, mexico_val = probscale.plot_pos(vignettes[vignettes[\"china\"]==0][\"age\"])\n",
    "china_pos, china_val = probscale.plot_pos(vignettes[vignettes[\"china\"]==1][\"age\"])\n",
    "\n",
    "temp1 = pd.DataFrame(data={\"x\":mexico_pos, \"y\":mexico_val, \"country\":[\"mexico\" for i in range(1, len(mexico_pos)+1 )]})\n",
    "temp2 = pd.DataFrame(data={\"x\":china_pos, \"y\":china_val, \"country\":[\"china\" for i in range(1, len(china_val)+1 )]})\n",
    "temp = temp1.append(temp2).reset_index(drop=True)\n",
    "\n",
    "fig = plt.figure()\n",
    "ax = fig.subplots()\n",
    "sns.scatterplot(ax=ax, x=\"x\", y=\"y\", hue=\"country\", data=temp, alpha=0.3)\n",
    "ax.figure.show()"
   ]
  }
 ],
 "metadata": {
  "kernelspec": {
   "display_name": "Python 2",
   "language": "python",
   "name": "python2"
  },
  "language_info": {
   "codemirror_mode": {
    "name": "ipython",
    "version": 2
   },
   "file_extension": ".py",
   "mimetype": "text/x-python",
   "name": "python",
   "nbconvert_exporter": "python",
   "pygments_lexer": "ipython2",
   "version": "2.7.6"
  }
 },
 "nbformat": 4,
 "nbformat_minor": 0
}
